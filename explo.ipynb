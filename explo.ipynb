{
 "cells": [
  {
   "cell_type": "markdown",
   "id": "efb7558a",
   "metadata": {},
   "source": [
    "# Imports et paramétrages de base"
   ]
  },
  {
   "cell_type": "markdown",
   "id": "a90007a2",
   "metadata": {},
   "source": [
    "Content\n",
    "\n",
    "The dataset contains a sample of user interactions (page views) in G1 news portal from Oct. 1 to 16, 2017, including about 3 million clicks, distributed in more than 1 million sessions from 314,000 users who read more than 46,000 different news articles during that period.\n",
    "\n",
    "It is composed by three files/folders:\n",
    "\n",
    "clicks.zip - Folder with CSV files (one per hour), containing user sessions interactions in the news portal.\n",
    "\n",
    "\n",
    "articles_metadata.csv - CSV file with metadata information about all (364047) published articles\n",
    "\n",
    "\n",
    "articles_embeddings.pickle Pickle (Python 3) of a NumPy matrix containing the Article Content Embeddings (250-dimensional vectors), trained upon articles' text and metadata by the CHAMELEON's ACR module (see paper for details) for 364047 published articles.\n",
    "\n",
    "\n",
    "P.s. The full text of news articles could not be provided due to license restrictions, but those embeddings can be used by Neura"
   ]
  },
  {
   "cell_type": "code",
   "execution_count": 1,
   "id": "db959348",
   "metadata": {},
   "outputs": [],
   "source": [
    "import pandas as pd"
   ]
  },
  {
   "cell_type": "code",
   "execution_count": 2,
   "id": "226e163a",
   "metadata": {},
   "outputs": [],
   "source": [
    "import pickle"
   ]
  },
  {
   "cell_type": "code",
   "execution_count": 3,
   "id": "c50f4d9e",
   "metadata": {},
   "outputs": [],
   "source": [
    "import numpy as np"
   ]
  },
  {
   "cell_type": "code",
   "execution_count": 4,
   "id": "5df49f4e",
   "metadata": {},
   "outputs": [],
   "source": [
    "pickle_file = 'news-portal-user-interactions-by-globocom/articles_embeddings.pickle'\n",
    "\n",
    "articles_metadata_file = 'news-portal-user-interactions-by-globocom/articles_metadata.csv'\n",
    "\n",
    "clicks_sample_file = 'news-portal-user-interactions-by-globocom/clicks_sample.zip'"
   ]
  },
  {
   "cell_type": "markdown",
   "id": "9abc444b",
   "metadata": {},
   "source": [
    "# Exploration des données"
   ]
  },
  {
   "cell_type": "markdown",
   "id": "b731a5cb",
   "metadata": {},
   "source": [
    "## Articles Metadata"
   ]
  },
  {
   "cell_type": "code",
   "execution_count": 5,
   "id": "ad4dbeb1",
   "metadata": {},
   "outputs": [],
   "source": [
    "articles_metadata = pd.read_csv(articles_metadata_file)"
   ]
  },
  {
   "cell_type": "code",
   "execution_count": 6,
   "id": "6b1b0324",
   "metadata": {},
   "outputs": [
    {
     "data": {
      "text/html": [
       "<div>\n",
       "<style scoped>\n",
       "    .dataframe tbody tr th:only-of-type {\n",
       "        vertical-align: middle;\n",
       "    }\n",
       "\n",
       "    .dataframe tbody tr th {\n",
       "        vertical-align: top;\n",
       "    }\n",
       "\n",
       "    .dataframe thead th {\n",
       "        text-align: right;\n",
       "    }\n",
       "</style>\n",
       "<table border=\"1\" class=\"dataframe\">\n",
       "  <thead>\n",
       "    <tr style=\"text-align: right;\">\n",
       "      <th></th>\n",
       "      <th>article_id</th>\n",
       "      <th>category_id</th>\n",
       "      <th>created_at_ts</th>\n",
       "      <th>publisher_id</th>\n",
       "      <th>words_count</th>\n",
       "    </tr>\n",
       "  </thead>\n",
       "  <tbody>\n",
       "    <tr>\n",
       "      <th>0</th>\n",
       "      <td>0</td>\n",
       "      <td>0</td>\n",
       "      <td>1513144419000</td>\n",
       "      <td>0</td>\n",
       "      <td>168</td>\n",
       "    </tr>\n",
       "    <tr>\n",
       "      <th>1</th>\n",
       "      <td>1</td>\n",
       "      <td>1</td>\n",
       "      <td>1405341936000</td>\n",
       "      <td>0</td>\n",
       "      <td>189</td>\n",
       "    </tr>\n",
       "    <tr>\n",
       "      <th>2</th>\n",
       "      <td>2</td>\n",
       "      <td>1</td>\n",
       "      <td>1408667706000</td>\n",
       "      <td>0</td>\n",
       "      <td>250</td>\n",
       "    </tr>\n",
       "    <tr>\n",
       "      <th>3</th>\n",
       "      <td>3</td>\n",
       "      <td>1</td>\n",
       "      <td>1408468313000</td>\n",
       "      <td>0</td>\n",
       "      <td>230</td>\n",
       "    </tr>\n",
       "    <tr>\n",
       "      <th>4</th>\n",
       "      <td>4</td>\n",
       "      <td>1</td>\n",
       "      <td>1407071171000</td>\n",
       "      <td>0</td>\n",
       "      <td>162</td>\n",
       "    </tr>\n",
       "  </tbody>\n",
       "</table>\n",
       "</div>"
      ],
      "text/plain": [
       "   article_id  category_id  created_at_ts  publisher_id  words_count\n",
       "0           0            0  1513144419000             0          168\n",
       "1           1            1  1405341936000             0          189\n",
       "2           2            1  1408667706000             0          250\n",
       "3           3            1  1408468313000             0          230\n",
       "4           4            1  1407071171000             0          162"
      ]
     },
     "execution_count": 6,
     "metadata": {},
     "output_type": "execute_result"
    }
   ],
   "source": [
    "articles_metadata.head()"
   ]
  },
  {
   "cell_type": "code",
   "execution_count": 7,
   "id": "6b53f6d1",
   "metadata": {},
   "outputs": [
    {
     "name": "stdout",
     "output_type": "stream",
     "text": [
      "<class 'pandas.core.frame.DataFrame'>\n",
      "RangeIndex: 364047 entries, 0 to 364046\n",
      "Data columns (total 5 columns):\n",
      " #   Column         Non-Null Count   Dtype\n",
      "---  ------         --------------   -----\n",
      " 0   article_id     364047 non-null  int64\n",
      " 1   category_id    364047 non-null  int64\n",
      " 2   created_at_ts  364047 non-null  int64\n",
      " 3   publisher_id   364047 non-null  int64\n",
      " 4   words_count    364047 non-null  int64\n",
      "dtypes: int64(5)\n",
      "memory usage: 13.9 MB\n"
     ]
    }
   ],
   "source": [
    "articles_metadata.info()"
   ]
  },
  {
   "cell_type": "code",
   "execution_count": 8,
   "id": "c1a88d98",
   "metadata": {},
   "outputs": [
    {
     "data": {
      "text/html": [
       "<div>\n",
       "<style scoped>\n",
       "    .dataframe tbody tr th:only-of-type {\n",
       "        vertical-align: middle;\n",
       "    }\n",
       "\n",
       "    .dataframe tbody tr th {\n",
       "        vertical-align: top;\n",
       "    }\n",
       "\n",
       "    .dataframe thead th {\n",
       "        text-align: right;\n",
       "    }\n",
       "</style>\n",
       "<table border=\"1\" class=\"dataframe\">\n",
       "  <thead>\n",
       "    <tr style=\"text-align: right;\">\n",
       "      <th></th>\n",
       "      <th>article_id</th>\n",
       "      <th>category_id</th>\n",
       "      <th>created_at_ts</th>\n",
       "      <th>publisher_id</th>\n",
       "      <th>words_count</th>\n",
       "    </tr>\n",
       "  </thead>\n",
       "  <tbody>\n",
       "    <tr>\n",
       "      <th>count</th>\n",
       "      <td>364047.000000</td>\n",
       "      <td>364047.000000</td>\n",
       "      <td>3.640470e+05</td>\n",
       "      <td>364047.0</td>\n",
       "      <td>364047.000000</td>\n",
       "    </tr>\n",
       "    <tr>\n",
       "      <th>mean</th>\n",
       "      <td>182023.000000</td>\n",
       "      <td>283.108239</td>\n",
       "      <td>1.474070e+12</td>\n",
       "      <td>0.0</td>\n",
       "      <td>190.897727</td>\n",
       "    </tr>\n",
       "    <tr>\n",
       "      <th>std</th>\n",
       "      <td>105091.461061</td>\n",
       "      <td>136.723470</td>\n",
       "      <td>4.293038e+10</td>\n",
       "      <td>0.0</td>\n",
       "      <td>59.502766</td>\n",
       "    </tr>\n",
       "    <tr>\n",
       "      <th>min</th>\n",
       "      <td>0.000000</td>\n",
       "      <td>0.000000</td>\n",
       "      <td>1.159356e+12</td>\n",
       "      <td>0.0</td>\n",
       "      <td>0.000000</td>\n",
       "    </tr>\n",
       "    <tr>\n",
       "      <th>25%</th>\n",
       "      <td>91011.500000</td>\n",
       "      <td>199.000000</td>\n",
       "      <td>1.444925e+12</td>\n",
       "      <td>0.0</td>\n",
       "      <td>159.000000</td>\n",
       "    </tr>\n",
       "    <tr>\n",
       "      <th>50%</th>\n",
       "      <td>182023.000000</td>\n",
       "      <td>301.000000</td>\n",
       "      <td>1.489422e+12</td>\n",
       "      <td>0.0</td>\n",
       "      <td>186.000000</td>\n",
       "    </tr>\n",
       "    <tr>\n",
       "      <th>75%</th>\n",
       "      <td>273034.500000</td>\n",
       "      <td>399.000000</td>\n",
       "      <td>1.509891e+12</td>\n",
       "      <td>0.0</td>\n",
       "      <td>218.000000</td>\n",
       "    </tr>\n",
       "    <tr>\n",
       "      <th>max</th>\n",
       "      <td>364046.000000</td>\n",
       "      <td>460.000000</td>\n",
       "      <td>1.520943e+12</td>\n",
       "      <td>0.0</td>\n",
       "      <td>6690.000000</td>\n",
       "    </tr>\n",
       "  </tbody>\n",
       "</table>\n",
       "</div>"
      ],
      "text/plain": [
       "          article_id    category_id  created_at_ts  publisher_id  \\\n",
       "count  364047.000000  364047.000000   3.640470e+05      364047.0   \n",
       "mean   182023.000000     283.108239   1.474070e+12           0.0   \n",
       "std    105091.461061     136.723470   4.293038e+10           0.0   \n",
       "min         0.000000       0.000000   1.159356e+12           0.0   \n",
       "25%     91011.500000     199.000000   1.444925e+12           0.0   \n",
       "50%    182023.000000     301.000000   1.489422e+12           0.0   \n",
       "75%    273034.500000     399.000000   1.509891e+12           0.0   \n",
       "max    364046.000000     460.000000   1.520943e+12           0.0   \n",
       "\n",
       "         words_count  \n",
       "count  364047.000000  \n",
       "mean      190.897727  \n",
       "std        59.502766  \n",
       "min         0.000000  \n",
       "25%       159.000000  \n",
       "50%       186.000000  \n",
       "75%       218.000000  \n",
       "max      6690.000000  "
      ]
     },
     "execution_count": 8,
     "metadata": {},
     "output_type": "execute_result"
    }
   ],
   "source": [
    "articles_metadata.describe()"
   ]
  },
  {
   "cell_type": "markdown",
   "id": "16d6103f",
   "metadata": {},
   "source": [
    "### Recherche de doublons"
   ]
  },
  {
   "cell_type": "code",
   "execution_count": 2,
   "id": "274d6018",
   "metadata": {},
   "outputs": [
    {
     "ename": "NameError",
     "evalue": "name 'articles_metadata' is not defined",
     "output_type": "error",
     "traceback": [
      "\u001b[31m---------------------------------------------------------------------------\u001b[39m",
      "\u001b[31mNameError\u001b[39m                                 Traceback (most recent call last)",
      "\u001b[36mCell\u001b[39m\u001b[36m \u001b[39m\u001b[32mIn[2]\u001b[39m\u001b[32m, line 1\u001b[39m\n\u001b[32m----> \u001b[39m\u001b[32m1\u001b[39m \u001b[43marticles_metadata\u001b[49m.duplicated().sum()\n",
      "\u001b[31mNameError\u001b[39m: name 'articles_metadata' is not defined"
     ]
    }
   ],
   "source": [
    "articles_metadata.duplicated().sum()"
   ]
  },
  {
   "cell_type": "code",
   "execution_count": null,
   "id": "7377b9d2",
   "metadata": {},
   "outputs": [
    {
     "data": {
      "text/plain": [
       "np.int64(0)"
      ]
     },
     "execution_count": 10,
     "metadata": {},
     "output_type": "execute_result"
    }
   ],
   "source": [
    "articles_metadata['article_id'].duplicated().sum()"
   ]
  },
  {
   "cell_type": "markdown",
   "id": "8a29cac2",
   "metadata": {},
   "source": [
    "J'aurais pu m'en douter en regardant les valeurs des différents quartiles etc. mais bon autant vérifier"
   ]
  },
  {
   "cell_type": "markdown",
   "id": "5e2b3dd2",
   "metadata": {},
   "source": [
    "### Articles vides ?"
   ]
  },
  {
   "cell_type": "code",
   "execution_count": 11,
   "id": "a90db7e0",
   "metadata": {},
   "outputs": [
    {
     "data": {
      "text/plain": [
       "(35, 5)"
      ]
     },
     "execution_count": 11,
     "metadata": {},
     "output_type": "execute_result"
    }
   ],
   "source": [
    "articles_metadata[articles_metadata[\"words_count\"] == 0].shape"
   ]
  },
  {
   "cell_type": "markdown",
   "id": "82fe7a57",
   "metadata": {},
   "source": [
    "## Embeddings"
   ]
  },
  {
   "cell_type": "code",
   "execution_count": 12,
   "id": "dd26dcec",
   "metadata": {},
   "outputs": [
    {
     "name": "stdout",
     "output_type": "stream",
     "text": [
      "Shape embeddings : (364047, 250)\n",
      "Shape metadata : (364047, 5)\n"
     ]
    }
   ],
   "source": [
    "# Shape des embeddings\n",
    "with open(pickle_file, \"rb\") as f:\n",
    "    embeddings = pickle.load(f)   # devrait être un np.ndarray\n",
    "\n",
    "print(\"Shape embeddings :\", embeddings.shape)\n",
    "\n",
    "# Shape des métadonnées\n",
    "print(\"Shape metadata :\", articles_metadata.shape)\n"
   ]
  },
  {
   "cell_type": "markdown",
   "id": "34bf9dc7",
   "metadata": {},
   "source": [
    "## Clicks"
   ]
  },
  {
   "cell_type": "code",
   "execution_count": 13,
   "id": "d94c0e18",
   "metadata": {},
   "outputs": [],
   "source": [
    "unclick = pd.read_csv('news-portal-user-interactions-by-globocom/clicks/clicks_hour_034.csv')"
   ]
  },
  {
   "cell_type": "code",
   "execution_count": 14,
   "id": "c446908a",
   "metadata": {},
   "outputs": [
    {
     "data": {
      "text/html": [
       "<div>\n",
       "<style scoped>\n",
       "    .dataframe tbody tr th:only-of-type {\n",
       "        vertical-align: middle;\n",
       "    }\n",
       "\n",
       "    .dataframe tbody tr th {\n",
       "        vertical-align: top;\n",
       "    }\n",
       "\n",
       "    .dataframe thead th {\n",
       "        text-align: right;\n",
       "    }\n",
       "</style>\n",
       "<table border=\"1\" class=\"dataframe\">\n",
       "  <thead>\n",
       "    <tr style=\"text-align: right;\">\n",
       "      <th></th>\n",
       "      <th>user_id</th>\n",
       "      <th>session_id</th>\n",
       "      <th>session_start</th>\n",
       "      <th>session_size</th>\n",
       "      <th>click_article_id</th>\n",
       "      <th>click_timestamp</th>\n",
       "      <th>click_environment</th>\n",
       "      <th>click_deviceGroup</th>\n",
       "      <th>click_os</th>\n",
       "      <th>click_country</th>\n",
       "      <th>click_region</th>\n",
       "      <th>click_referrer_type</th>\n",
       "    </tr>\n",
       "  </thead>\n",
       "  <tbody>\n",
       "    <tr>\n",
       "      <th>0</th>\n",
       "      <td>57453</td>\n",
       "      <td>1506947781355815</td>\n",
       "      <td>1506947781000</td>\n",
       "      <td>2</td>\n",
       "      <td>59758</td>\n",
       "      <td>1506947938747</td>\n",
       "      <td>4</td>\n",
       "      <td>1</td>\n",
       "      <td>17</td>\n",
       "      <td>1</td>\n",
       "      <td>25</td>\n",
       "      <td>2</td>\n",
       "    </tr>\n",
       "    <tr>\n",
       "      <th>1</th>\n",
       "      <td>57453</td>\n",
       "      <td>1506947781355815</td>\n",
       "      <td>1506947781000</td>\n",
       "      <td>2</td>\n",
       "      <td>336429</td>\n",
       "      <td>1506947968747</td>\n",
       "      <td>4</td>\n",
       "      <td>1</td>\n",
       "      <td>17</td>\n",
       "      <td>1</td>\n",
       "      <td>25</td>\n",
       "      <td>2</td>\n",
       "    </tr>\n",
       "    <tr>\n",
       "      <th>2</th>\n",
       "      <td>57454</td>\n",
       "      <td>1506947782193816</td>\n",
       "      <td>1506947782000</td>\n",
       "      <td>2</td>\n",
       "      <td>160974</td>\n",
       "      <td>1506948442748</td>\n",
       "      <td>4</td>\n",
       "      <td>3</td>\n",
       "      <td>2</td>\n",
       "      <td>1</td>\n",
       "      <td>24</td>\n",
       "      <td>6</td>\n",
       "    </tr>\n",
       "    <tr>\n",
       "      <th>3</th>\n",
       "      <td>57454</td>\n",
       "      <td>1506947782193816</td>\n",
       "      <td>1506947782000</td>\n",
       "      <td>2</td>\n",
       "      <td>158536</td>\n",
       "      <td>1506948472748</td>\n",
       "      <td>4</td>\n",
       "      <td>3</td>\n",
       "      <td>2</td>\n",
       "      <td>1</td>\n",
       "      <td>24</td>\n",
       "      <td>6</td>\n",
       "    </tr>\n",
       "    <tr>\n",
       "      <th>4</th>\n",
       "      <td>14928</td>\n",
       "      <td>1506947782202817</td>\n",
       "      <td>1506947782000</td>\n",
       "      <td>2</td>\n",
       "      <td>160974</td>\n",
       "      <td>1506948022263</td>\n",
       "      <td>4</td>\n",
       "      <td>1</td>\n",
       "      <td>17</td>\n",
       "      <td>1</td>\n",
       "      <td>21</td>\n",
       "      <td>1</td>\n",
       "    </tr>\n",
       "  </tbody>\n",
       "</table>\n",
       "</div>"
      ],
      "text/plain": [
       "   user_id        session_id  session_start  session_size  click_article_id  \\\n",
       "0    57453  1506947781355815  1506947781000             2             59758   \n",
       "1    57453  1506947781355815  1506947781000             2            336429   \n",
       "2    57454  1506947782193816  1506947782000             2            160974   \n",
       "3    57454  1506947782193816  1506947782000             2            158536   \n",
       "4    14928  1506947782202817  1506947782000             2            160974   \n",
       "\n",
       "   click_timestamp  click_environment  click_deviceGroup  click_os  \\\n",
       "0    1506947938747                  4                  1        17   \n",
       "1    1506947968747                  4                  1        17   \n",
       "2    1506948442748                  4                  3         2   \n",
       "3    1506948472748                  4                  3         2   \n",
       "4    1506948022263                  4                  1        17   \n",
       "\n",
       "   click_country  click_region  click_referrer_type  \n",
       "0              1            25                    2  \n",
       "1              1            25                    2  \n",
       "2              1            24                    6  \n",
       "3              1            24                    6  \n",
       "4              1            21                    1  "
      ]
     },
     "execution_count": 14,
     "metadata": {},
     "output_type": "execute_result"
    }
   ],
   "source": [
    "unclick.head()"
   ]
  },
  {
   "cell_type": "code",
   "execution_count": 15,
   "id": "a1edd648",
   "metadata": {},
   "outputs": [
    {
     "name": "stdout",
     "output_type": "stream",
     "text": [
      "<class 'pandas.core.frame.DataFrame'>\n",
      "RangeIndex: 16209 entries, 0 to 16208\n",
      "Data columns (total 12 columns):\n",
      " #   Column               Non-Null Count  Dtype\n",
      "---  ------               --------------  -----\n",
      " 0   user_id              16209 non-null  int64\n",
      " 1   session_id           16209 non-null  int64\n",
      " 2   session_start        16209 non-null  int64\n",
      " 3   session_size         16209 non-null  int64\n",
      " 4   click_article_id     16209 non-null  int64\n",
      " 5   click_timestamp      16209 non-null  int64\n",
      " 6   click_environment    16209 non-null  int64\n",
      " 7   click_deviceGroup    16209 non-null  int64\n",
      " 8   click_os             16209 non-null  int64\n",
      " 9   click_country        16209 non-null  int64\n",
      " 10  click_region         16209 non-null  int64\n",
      " 11  click_referrer_type  16209 non-null  int64\n",
      "dtypes: int64(12)\n",
      "memory usage: 1.5 MB\n"
     ]
    }
   ],
   "source": [
    "unclick.info()"
   ]
  },
  {
   "cell_type": "code",
   "execution_count": 16,
   "id": "5cf37031",
   "metadata": {},
   "outputs": [
    {
     "data": {
      "text/html": [
       "<div>\n",
       "<style scoped>\n",
       "    .dataframe tbody tr th:only-of-type {\n",
       "        vertical-align: middle;\n",
       "    }\n",
       "\n",
       "    .dataframe tbody tr th {\n",
       "        vertical-align: top;\n",
       "    }\n",
       "\n",
       "    .dataframe thead th {\n",
       "        text-align: right;\n",
       "    }\n",
       "</style>\n",
       "<table border=\"1\" class=\"dataframe\">\n",
       "  <thead>\n",
       "    <tr style=\"text-align: right;\">\n",
       "      <th></th>\n",
       "      <th>user_id</th>\n",
       "      <th>session_id</th>\n",
       "      <th>session_start</th>\n",
       "      <th>session_size</th>\n",
       "      <th>click_article_id</th>\n",
       "      <th>click_timestamp</th>\n",
       "      <th>click_environment</th>\n",
       "      <th>click_deviceGroup</th>\n",
       "      <th>click_os</th>\n",
       "      <th>click_country</th>\n",
       "      <th>click_region</th>\n",
       "      <th>click_referrer_type</th>\n",
       "    </tr>\n",
       "  </thead>\n",
       "  <tbody>\n",
       "    <tr>\n",
       "      <th>count</th>\n",
       "      <td>16209.000000</td>\n",
       "      <td>1.620900e+04</td>\n",
       "      <td>1.620900e+04</td>\n",
       "      <td>16209.000000</td>\n",
       "      <td>16209.000000</td>\n",
       "      <td>1.620900e+04</td>\n",
       "      <td>16209.000000</td>\n",
       "      <td>16209.000000</td>\n",
       "      <td>16209.000000</td>\n",
       "      <td>16209.000000</td>\n",
       "      <td>16209.000000</td>\n",
       "      <td>16209.000000</td>\n",
       "    </tr>\n",
       "    <tr>\n",
       "      <th>mean</th>\n",
       "      <td>52831.265285</td>\n",
       "      <td>1.506950e+15</td>\n",
       "      <td>1.506950e+12</td>\n",
       "      <td>3.799186</td>\n",
       "      <td>178677.879511</td>\n",
       "      <td>1.506953e+12</td>\n",
       "      <td>3.968844</td>\n",
       "      <td>1.402369</td>\n",
       "      <td>15.212104</td>\n",
       "      <td>1.330495</td>\n",
       "      <td>18.220063</td>\n",
       "      <td>1.840953</td>\n",
       "    </tr>\n",
       "    <tr>\n",
       "      <th>std</th>\n",
       "      <td>15357.881936</td>\n",
       "      <td>1.021561e+09</td>\n",
       "      <td>1.021565e+06</td>\n",
       "      <td>3.433163</td>\n",
       "      <td>76798.315924</td>\n",
       "      <td>1.251963e+07</td>\n",
       "      <td>0.256849</td>\n",
       "      <td>0.833933</td>\n",
       "      <td>5.050295</td>\n",
       "      <td>1.676233</td>\n",
       "      <td>7.139908</td>\n",
       "      <td>1.160811</td>\n",
       "    </tr>\n",
       "    <tr>\n",
       "      <th>min</th>\n",
       "      <td>34.000000</td>\n",
       "      <td>1.506948e+15</td>\n",
       "      <td>1.506948e+12</td>\n",
       "      <td>2.000000</td>\n",
       "      <td>1899.000000</td>\n",
       "      <td>1.506948e+12</td>\n",
       "      <td>1.000000</td>\n",
       "      <td>1.000000</td>\n",
       "      <td>2.000000</td>\n",
       "      <td>1.000000</td>\n",
       "      <td>1.000000</td>\n",
       "      <td>1.000000</td>\n",
       "    </tr>\n",
       "    <tr>\n",
       "      <th>25%</th>\n",
       "      <td>57609.000000</td>\n",
       "      <td>1.506949e+15</td>\n",
       "      <td>1.506949e+12</td>\n",
       "      <td>2.000000</td>\n",
       "      <td>158536.000000</td>\n",
       "      <td>1.506950e+12</td>\n",
       "      <td>4.000000</td>\n",
       "      <td>1.000000</td>\n",
       "      <td>17.000000</td>\n",
       "      <td>1.000000</td>\n",
       "      <td>13.000000</td>\n",
       "      <td>1.000000</td>\n",
       "    </tr>\n",
       "    <tr>\n",
       "      <th>50%</th>\n",
       "      <td>59075.000000</td>\n",
       "      <td>1.506950e+15</td>\n",
       "      <td>1.506950e+12</td>\n",
       "      <td>3.000000</td>\n",
       "      <td>160974.000000</td>\n",
       "      <td>1.506951e+12</td>\n",
       "      <td>4.000000</td>\n",
       "      <td>1.000000</td>\n",
       "      <td>17.000000</td>\n",
       "      <td>1.000000</td>\n",
       "      <td>21.000000</td>\n",
       "      <td>2.000000</td>\n",
       "    </tr>\n",
       "    <tr>\n",
       "      <th>75%</th>\n",
       "      <td>60569.000000</td>\n",
       "      <td>1.506950e+15</td>\n",
       "      <td>1.506950e+12</td>\n",
       "      <td>4.000000</td>\n",
       "      <td>207731.000000</td>\n",
       "      <td>1.506952e+12</td>\n",
       "      <td>4.000000</td>\n",
       "      <td>1.000000</td>\n",
       "      <td>17.000000</td>\n",
       "      <td>1.000000</td>\n",
       "      <td>25.000000</td>\n",
       "      <td>2.000000</td>\n",
       "    </tr>\n",
       "    <tr>\n",
       "      <th>max</th>\n",
       "      <td>62108.000000</td>\n",
       "      <td>1.506951e+15</td>\n",
       "      <td>1.506951e+12</td>\n",
       "      <td>28.000000</td>\n",
       "      <td>363976.000000</td>\n",
       "      <td>1.507294e+12</td>\n",
       "      <td>4.000000</td>\n",
       "      <td>5.000000</td>\n",
       "      <td>20.000000</td>\n",
       "      <td>11.000000</td>\n",
       "      <td>28.000000</td>\n",
       "      <td>7.000000</td>\n",
       "    </tr>\n",
       "  </tbody>\n",
       "</table>\n",
       "</div>"
      ],
      "text/plain": [
       "            user_id    session_id  session_start  session_size  \\\n",
       "count  16209.000000  1.620900e+04   1.620900e+04  16209.000000   \n",
       "mean   52831.265285  1.506950e+15   1.506950e+12      3.799186   \n",
       "std    15357.881936  1.021561e+09   1.021565e+06      3.433163   \n",
       "min       34.000000  1.506948e+15   1.506948e+12      2.000000   \n",
       "25%    57609.000000  1.506949e+15   1.506949e+12      2.000000   \n",
       "50%    59075.000000  1.506950e+15   1.506950e+12      3.000000   \n",
       "75%    60569.000000  1.506950e+15   1.506950e+12      4.000000   \n",
       "max    62108.000000  1.506951e+15   1.506951e+12     28.000000   \n",
       "\n",
       "       click_article_id  click_timestamp  click_environment  \\\n",
       "count      16209.000000     1.620900e+04       16209.000000   \n",
       "mean      178677.879511     1.506953e+12           3.968844   \n",
       "std        76798.315924     1.251963e+07           0.256849   \n",
       "min         1899.000000     1.506948e+12           1.000000   \n",
       "25%       158536.000000     1.506950e+12           4.000000   \n",
       "50%       160974.000000     1.506951e+12           4.000000   \n",
       "75%       207731.000000     1.506952e+12           4.000000   \n",
       "max       363976.000000     1.507294e+12           4.000000   \n",
       "\n",
       "       click_deviceGroup      click_os  click_country  click_region  \\\n",
       "count       16209.000000  16209.000000   16209.000000  16209.000000   \n",
       "mean            1.402369     15.212104       1.330495     18.220063   \n",
       "std             0.833933      5.050295       1.676233      7.139908   \n",
       "min             1.000000      2.000000       1.000000      1.000000   \n",
       "25%             1.000000     17.000000       1.000000     13.000000   \n",
       "50%             1.000000     17.000000       1.000000     21.000000   \n",
       "75%             1.000000     17.000000       1.000000     25.000000   \n",
       "max             5.000000     20.000000      11.000000     28.000000   \n",
       "\n",
       "       click_referrer_type  \n",
       "count         16209.000000  \n",
       "mean              1.840953  \n",
       "std               1.160811  \n",
       "min               1.000000  \n",
       "25%               1.000000  \n",
       "50%               2.000000  \n",
       "75%               2.000000  \n",
       "max               7.000000  "
      ]
     },
     "execution_count": 16,
     "metadata": {},
     "output_type": "execute_result"
    }
   ],
   "source": [
    "unclick.describe()"
   ]
  },
  {
   "cell_type": "markdown",
   "id": "f38f1f59",
   "metadata": {},
   "source": [
    "# Nettoyage des données"
   ]
  },
  {
   "cell_type": "code",
   "execution_count": 17,
   "id": "d491aba6",
   "metadata": {},
   "outputs": [],
   "source": [
    "# Supprimer les articles vides\n",
    "articles_clean = articles_metadata[articles_metadata[\"words_count\"] > 0].reset_index(drop=True)\n",
    "\n",
    "# Et leurs embeddings associés\n",
    "mask = articles_metadata[\"words_count\"] > 0\n",
    "embeddings_clean = embeddings[mask.values]\n"
   ]
  },
  {
   "cell_type": "code",
   "execution_count": 18,
   "id": "6194e7c2",
   "metadata": {},
   "outputs": [],
   "source": [
    "import os"
   ]
  },
  {
   "cell_type": "code",
   "execution_count": null,
   "id": "abf22cd3",
   "metadata": {},
   "outputs": [],
   "source": [
    "click_csvs = os.listdir('news-portal-user-interactions-by-globocom/clicks/')"
   ]
  },
  {
   "cell_type": "code",
   "execution_count": 20,
   "id": "8f8c5d87",
   "metadata": {},
   "outputs": [
    {
     "name": "stdout",
     "output_type": "stream",
     "text": [
      "['clicks_hour_367.csv', 'clicks_hour_314.csv', 'clicks_hour_184.csv', 'clicks_hour_277.csv', 'clicks_hour_055.csv', 'clicks_hour_298.csv', 'clicks_hour_268.csv', 'clicks_hour_378.csv', 'clicks_hour_197.csv', 'clicks_hour_083.csv', 'clicks_hour_095.csv', 'clicks_hour_015.csv', 'clicks_hour_037.csv', 'clicks_hour_012.csv', 'clicks_hour_071.csv', 'clicks_hour_163.csv', 'clicks_hour_005.csv', 'clicks_hour_090.csv', 'clicks_hour_014.csv', 'clicks_hour_025.csv', 'clicks_hour_266.csv', 'clicks_hour_302.csv', 'clicks_hour_376.csv', 'clicks_hour_354.csv', 'clicks_hour_195.csv', 'clicks_hour_153.csv', 'clicks_hour_143.csv', 'clicks_hour_187.csv', 'clicks_hour_342.csv', 'clicks_hour_165.csv', 'clicks_hour_267.csv', 'clicks_hour_270.csv', 'clicks_hour_340.csv', 'clicks_hour_046.csv', 'clicks_hour_060.csv', 'clicks_hour_166.csv', 'clicks_hour_081.csv', 'clicks_hour_096.csv', 'clicks_hour_307.csv', 'clicks_hour_154.csv', 'clicks_hour_006.csv', 'clicks_hour_074.csv', 'clicks_hour_213.csv', 'clicks_hour_133.csv', 'clicks_hour_115.csv', 'clicks_hour_145.csv', 'clicks_hour_256.csv', 'clicks_hour_261.csv', 'clicks_hour_221.csv', 'clicks_hour_066.csv', 'clicks_hour_093.csv', 'clicks_hour_201.csv', 'clicks_hour_286.csv', 'clicks_hour_193.csv', 'clicks_hour_225.csv', 'clicks_hour_031.csv', 'clicks_hour_181.csv', 'clicks_hour_051.csv', 'clicks_hour_108.csv', 'clicks_hour_129.csv', 'clicks_hour_038.csv', 'clicks_hour_062.csv', 'clicks_hour_069.csv', 'clicks_hour_104.csv', 'clicks_hour_379.csv', 'clicks_hour_230.csv', 'clicks_hour_234.csv', 'clicks_hour_059.csv', 'clicks_hour_105.csv', 'clicks_hour_373.csv', 'clicks_hour_101.csv', 'clicks_hour_280.csv', 'clicks_hour_346.csv', 'clicks_hour_172.csv', 'clicks_hour_271.csv', 'clicks_hour_203.csv', 'clicks_hour_196.csv', 'clicks_hour_369.csv', 'clicks_hour_057.csv', 'clicks_hour_222.csv', 'clicks_hour_318.csv', 'clicks_hour_124.csv', 'clicks_hour_034.csv', 'clicks_hour_171.csv', 'clicks_hour_137.csv', 'clicks_hour_098.csv', 'clicks_hour_200.csv', 'clicks_hour_000.csv', 'clicks_hour_255.csv', 'clicks_hour_048.csv', 'clicks_hour_176.csv', 'clicks_hour_061.csv', 'clicks_hour_122.csv', 'clicks_hour_161.csv', 'clicks_hour_073.csv', 'clicks_hour_310.csv', 'clicks_hour_311.csv', 'clicks_hour_123.csv', 'clicks_hour_119.csv', 'clicks_hour_140.csv', 'clicks_hour_240.csv', 'clicks_hour_009.csv', 'clicks_hour_248.csv', 'clicks_hour_178.csv', 'clicks_hour_370.csv', 'clicks_hour_056.csv', 'clicks_hour_336.csv', 'clicks_hour_332.csv', 'clicks_hour_047.csv', 'clicks_hour_084.csv', 'clicks_hour_188.csv', 'clicks_hour_253.csv', 'clicks_hour_028.csv', 'clicks_hour_092.csv', 'clicks_hour_236.csv', 'clicks_hour_283.csv', 'clicks_hour_331.csv', 'clicks_hour_132.csv', 'clicks_hour_348.csv', 'clicks_hour_361.csv', 'clicks_hour_162.csv', 'clicks_hour_146.csv', 'clicks_hour_138.csv', 'clicks_hour_157.csv', 'clicks_hour_289.csv', 'clicks_hour_068.csv', 'clicks_hour_191.csv', 'clicks_hour_297.csv', 'clicks_hour_142.csv', 'clicks_hour_148.csv', 'clicks_hour_287.csv', 'clicks_hour_208.csv', 'clicks_hour_345.csv', 'clicks_hour_350.csv', 'clicks_hour_285.csv', 'clicks_hour_045.csv', 'clicks_hour_167.csv', 'clicks_hour_120.csv', 'clicks_hour_216.csv', 'clicks_hour_141.csv', 'clicks_hour_219.csv', 'clicks_hour_275.csv', 'clicks_hour_299.csv', 'clicks_hour_126.csv', 'clicks_hour_279.csv', 'clicks_hour_304.csv', 'clicks_hour_226.csv', 'clicks_hour_199.csv', 'clicks_hour_326.csv', 'clicks_hour_251.csv', 'clicks_hour_041.csv', 'clicks_hour_220.csv', 'clicks_hour_036.csv', 'clicks_hour_030.csv', 'clicks_hour_180.csv', 'clicks_hour_072.csv', 'clicks_hour_082.csv', 'clicks_hour_149.csv', 'clicks_hour_244.csv', 'clicks_hour_235.csv', 'clicks_hour_239.csv', 'clicks_hour_292.csv', 'clicks_hour_159.csv', 'clicks_hour_027.csv', 'clicks_hour_020.csv', 'clicks_hour_118.csv', 'clicks_hour_233.csv', 'clicks_hour_252.csv', 'clicks_hour_113.csv', 'clicks_hour_183.csv', 'clicks_hour_273.csv', 'clicks_hour_303.csv', 'clicks_hour_206.csv', 'clicks_hour_349.csv', 'clicks_hour_321.csv', 'clicks_hour_333.csv', 'clicks_hour_050.csv', 'clicks_hour_198.csv', 'clicks_hour_114.csv', 'clicks_hour_063.csv', 'clicks_hour_358.csv', 'clicks_hour_085.csv', 'clicks_hour_001.csv', 'clicks_hour_282.csv', 'clicks_hour_288.csv', 'clicks_hour_265.csv', 'clicks_hour_017.csv', 'clicks_hour_214.csv', 'clicks_hour_262.csv', 'clicks_hour_156.csv', 'clicks_hour_306.csv', 'clicks_hour_029.csv', 'clicks_hour_360.csv', 'clicks_hour_295.csv', 'clicks_hour_209.csv', 'clicks_hour_049.csv', 'clicks_hour_382.csv', 'clicks_hour_237.csv', 'clicks_hour_269.csv', 'clicks_hour_043.csv', 'clicks_hour_168.csv', 'clicks_hour_022.csv', 'clicks_hour_185.csv', 'clicks_hour_065.csv', 'clicks_hour_053.csv', 'clicks_hour_343.csv', 'clicks_hour_094.csv', 'clicks_hour_328.csv', 'clicks_hour_380.csv', 'clicks_hour_357.csv', 'clicks_hour_383.csv', 'clicks_hour_232.csv', 'clicks_hour_130.csv', 'clicks_hour_089.csv', 'clicks_hour_363.csv', 'clicks_hour_128.csv', 'clicks_hour_210.csv', 'clicks_hour_019.csv', 'clicks_hour_301.csv', 'clicks_hour_338.csv', 'clicks_hour_264.csv', 'clicks_hour_173.csv', 'clicks_hour_026.csv', 'clicks_hour_381.csv', 'clicks_hour_070.csv', 'clicks_hour_091.csv', 'clicks_hour_011.csv', 'clicks_hour_352.csv', 'clicks_hour_229.csv', 'clicks_hour_324.csv', 'clicks_hour_016.csv', 'clicks_hour_007.csv', 'clicks_hour_294.csv', 'clicks_hour_175.csv', 'clicks_hour_374.csv', 'clicks_hour_107.csv', 'clicks_hour_164.csv', 'clicks_hour_033.csv', 'clicks_hour_300.csv', 'clicks_hour_377.csv', 'clicks_hour_317.csv', 'clicks_hour_136.csv', 'clicks_hour_111.csv', 'clicks_hour_242.csv', 'clicks_hour_371.csv', 'clicks_hour_194.csv', 'clicks_hour_290.csv', 'clicks_hour_347.csv', 'clicks_hour_202.csv', 'clicks_hour_121.csv', 'clicks_hour_362.csv', 'clicks_hour_276.csv', 'clicks_hour_259.csv', 'clicks_hour_320.csv', 'clicks_hour_330.csv', 'clicks_hour_135.csv', 'clicks_hour_004.csv', 'clicks_hour_003.csv', 'clicks_hour_103.csv', 'clicks_hour_368.csv', 'clicks_hour_002.csv', 'clicks_hour_018.csv', 'clicks_hour_312.csv', 'clicks_hour_110.csv', 'clicks_hour_355.csv', 'clicks_hour_322.csv', 'clicks_hour_099.csv', 'clicks_hour_131.csv', 'clicks_hour_308.csv', 'clicks_hour_106.csv', 'clicks_hour_013.csv', 'clicks_hour_278.csv', 'clicks_hour_375.csv', 'clicks_hour_032.csv', 'clicks_hour_077.csv', 'clicks_hour_231.csv', 'clicks_hour_384.csv', 'clicks_hour_351.csv', 'clicks_hour_170.csv', 'clicks_hour_144.csv', 'clicks_hour_186.csv', 'clicks_hour_323.csv', 'clicks_hour_151.csv', 'clicks_hour_086.csv', 'clicks_hour_205.csv', 'clicks_hour_078.csv', 'clicks_hour_334.csv', 'clicks_hour_325.csv', 'clicks_hour_207.csv', 'clicks_hour_245.csv', 'clicks_hour_215.csv', 'clicks_hour_125.csv', 'clicks_hour_337.csv', 'clicks_hour_058.csv', 'clicks_hour_254.csv', 'clicks_hour_356.csv', 'clicks_hour_211.csv', 'clicks_hour_257.csv', 'clicks_hour_250.csv', 'clicks_hour_249.csv', 'clicks_hour_021.csv', 'clicks_hour_365.csv', 'clicks_hour_075.csv', 'clicks_hour_212.csv', 'clicks_hour_190.csv', 'clicks_hour_309.csv', 'clicks_hour_134.csv', 'clicks_hour_067.csv', 'clicks_hour_274.csv', 'clicks_hour_319.csv', 'clicks_hour_335.csv', 'clicks_hour_263.csv', 'clicks_hour_258.csv', 'clicks_hour_127.csv', 'clicks_hour_052.csv', 'clicks_hour_341.csv', 'clicks_hour_112.csv', 'clicks_hour_218.csv', 'clicks_hour_366.csv', 'clicks_hour_158.csv', 'clicks_hour_023.csv', 'clicks_hour_155.csv', 'clicks_hour_192.csv', 'clicks_hour_315.csv', 'clicks_hour_182.csv', 'clicks_hour_305.csv', 'clicks_hour_008.csv', 'clicks_hour_224.csv', 'clicks_hour_327.csv', 'clicks_hour_076.csv', 'clicks_hour_139.csv', 'clicks_hour_281.csv', 'clicks_hour_227.csv', 'clicks_hour_246.csv', 'clicks_hour_293.csv', 'clicks_hour_147.csv', 'clicks_hour_097.csv', 'clicks_hour_080.csv', 'clicks_hour_238.csv', 'clicks_hour_313.csv', 'clicks_hour_040.csv', 'clicks_hour_087.csv', 'clicks_hour_177.csv', 'clicks_hour_152.csv', 'clicks_hour_169.csv', 'clicks_hour_329.csv', 'clicks_hour_260.csv', 'clicks_hour_064.csv', 'clicks_hour_291.csv', 'clicks_hour_247.csv', 'clicks_hour_272.csv', 'clicks_hour_359.csv', 'clicks_hour_100.csv', 'clicks_hour_109.csv', 'clicks_hour_116.csv', 'clicks_hour_316.csv', 'clicks_hour_228.csv', 'clicks_hour_344.csv', 'clicks_hour_353.csv', 'clicks_hour_189.csv', 'clicks_hour_243.csv', 'clicks_hour_010.csv', 'clicks_hour_039.csv', 'clicks_hour_035.csv', 'clicks_hour_339.csv', 'clicks_hour_088.csv', 'clicks_hour_179.csv', 'clicks_hour_044.csv', 'clicks_hour_296.csv', 'clicks_hour_204.csv', 'clicks_hour_079.csv', 'clicks_hour_117.csv', 'clicks_hour_372.csv', 'clicks_hour_223.csv', 'clicks_hour_241.csv', 'clicks_hour_102.csv', 'clicks_hour_160.csv', 'clicks_hour_150.csv', 'clicks_hour_174.csv', 'clicks_hour_054.csv', 'clicks_hour_217.csv', 'clicks_hour_364.csv', 'clicks_hour_024.csv', 'clicks_hour_042.csv', 'clicks_hour_284.csv']\n"
     ]
    }
   ],
   "source": [
    "print(click_csvs)"
   ]
  },
  {
   "cell_type": "code",
   "execution_count": 25,
   "id": "e57ea7e7",
   "metadata": {},
   "outputs": [],
   "source": [
    "articles_vides = articles_metadata.loc[articles_metadata[\"words_count\"] == 0, \"article_id\"]"
   ]
  },
  {
   "cell_type": "code",
   "execution_count": 26,
   "id": "6d943a7d",
   "metadata": {},
   "outputs": [
    {
     "name": "stdout",
     "output_type": "stream",
     "text": [
      "35491      35491\n",
      "38472      38472\n",
      "39043      39043\n",
      "39054      39054\n",
      "164414    164414\n",
      "206233    206233\n",
      "212323    212323\n",
      "212324    212324\n",
      "212327    212327\n",
      "212526    212526\n",
      "233934    233934\n",
      "236119    236119\n",
      "248114    248114\n",
      "275183    275183\n",
      "315386    315386\n",
      "315387    315387\n",
      "315388    315388\n",
      "315389    315389\n",
      "315390    315390\n",
      "315391    315391\n",
      "315392    315392\n",
      "315393    315393\n",
      "315394    315394\n",
      "315395    315395\n",
      "315396    315396\n",
      "315397    315397\n",
      "315398    315398\n",
      "315788    315788\n",
      "315789    315789\n",
      "315790    315790\n",
      "315791    315791\n",
      "315792    315792\n",
      "315793    315793\n",
      "328318    328318\n",
      "333154    333154\n",
      "Name: article_id, dtype: int64\n"
     ]
    }
   ],
   "source": [
    "print(articles_vides)"
   ]
  },
  {
   "cell_type": "code",
   "execution_count": 28,
   "id": "13d3a4b8",
   "metadata": {},
   "outputs": [
    {
     "name": "stdout",
     "output_type": "stream",
     "text": [
      "news-portal-user-interactions-by-globocom/clicks/clicks_hour_015.csv contient 2 clic(s) sur des articles vides\n",
      "news-portal-user-interactions-by-globocom/clicks/clicks_hour_037.csv contient 1 clic(s) sur des articles vides\n",
      "news-portal-user-interactions-by-globocom/clicks/clicks_hour_012.csv contient 2 clic(s) sur des articles vides\n",
      "news-portal-user-interactions-by-globocom/clicks/clicks_hour_014.csv contient 1 clic(s) sur des articles vides\n",
      "news-portal-user-interactions-by-globocom/clicks/clicks_hour_342.csv contient 1 clic(s) sur des articles vides\n",
      "news-portal-user-interactions-by-globocom/clicks/clicks_hour_006.csv contient 1 clic(s) sur des articles vides\n",
      "news-portal-user-interactions-by-globocom/clicks/clicks_hour_108.csv contient 1 clic(s) sur des articles vides\n",
      "news-portal-user-interactions-by-globocom/clicks/clicks_hour_129.csv contient 5 clic(s) sur des articles vides\n",
      "news-portal-user-interactions-by-globocom/clicks/clicks_hour_034.csv contient 2 clic(s) sur des articles vides\n",
      "news-portal-user-interactions-by-globocom/clicks/clicks_hour_000.csv contient 1 clic(s) sur des articles vides\n",
      "news-portal-user-interactions-by-globocom/clicks/clicks_hour_176.csv contient 1 clic(s) sur des articles vides\n",
      "news-portal-user-interactions-by-globocom/clicks/clicks_hour_009.csv contient 4 clic(s) sur des articles vides\n",
      "news-portal-user-interactions-by-globocom/clicks/clicks_hour_132.csv contient 2 clic(s) sur des articles vides\n",
      "news-portal-user-interactions-by-globocom/clicks/clicks_hour_114.csv contient 1 clic(s) sur des articles vides\n",
      "news-portal-user-interactions-by-globocom/clicks/clicks_hour_017.csv contient 1 clic(s) sur des articles vides\n",
      "news-portal-user-interactions-by-globocom/clicks/clicks_hour_130.csv contient 4 clic(s) sur des articles vides\n",
      "news-portal-user-interactions-by-globocom/clicks/clicks_hour_128.csv contient 2 clic(s) sur des articles vides\n",
      "news-portal-user-interactions-by-globocom/clicks/clicks_hour_011.csv contient 3 clic(s) sur des articles vides\n",
      "news-portal-user-interactions-by-globocom/clicks/clicks_hour_016.csv contient 2 clic(s) sur des articles vides\n",
      "news-portal-user-interactions-by-globocom/clicks/clicks_hour_007.csv contient 2 clic(s) sur des articles vides\n",
      "news-portal-user-interactions-by-globocom/clicks/clicks_hour_111.csv contient 1 clic(s) sur des articles vides\n",
      "news-portal-user-interactions-by-globocom/clicks/clicks_hour_110.csv contient 3 clic(s) sur des articles vides\n",
      "news-portal-user-interactions-by-globocom/clicks/clicks_hour_131.csv contient 3 clic(s) sur des articles vides\n",
      "news-portal-user-interactions-by-globocom/clicks/clicks_hour_013.csv contient 2 clic(s) sur des articles vides\n",
      "news-portal-user-interactions-by-globocom/clicks/clicks_hour_127.csv contient 2 clic(s) sur des articles vides\n",
      "news-portal-user-interactions-by-globocom/clicks/clicks_hour_112.csv contient 3 clic(s) sur des articles vides\n",
      "news-portal-user-interactions-by-globocom/clicks/clicks_hour_008.csv contient 2 clic(s) sur des articles vides\n",
      "news-portal-user-interactions-by-globocom/clicks/clicks_hour_076.csv contient 1 clic(s) sur des articles vides\n",
      "news-portal-user-interactions-by-globocom/clicks/clicks_hour_109.csv contient 2 clic(s) sur des articles vides\n",
      "news-portal-user-interactions-by-globocom/clicks/clicks_hour_010.csv contient 7 clic(s) sur des articles vides\n"
     ]
    }
   ],
   "source": [
    "for p in click_csvs:\n",
    "    f = os.path.join('news-portal-user-interactions-by-globocom/clicks/',p)\n",
    "    df = pd.read_csv(f)\n",
    "    intersect = df[\"click_article_id\"].isin(articles_vides)\n",
    "    if intersect.any():\n",
    "        print(f\"{f} contient {intersect.sum()} clic(s) sur des articles vides\")\n"
   ]
  }
 ],
 "metadata": {
  "kernelspec": {
   "display_name": "Projet_10",
   "language": "python",
   "name": "python3"
  },
  "language_info": {
   "codemirror_mode": {
    "name": "ipython",
    "version": 3
   },
   "file_extension": ".py",
   "mimetype": "text/x-python",
   "name": "python",
   "nbconvert_exporter": "python",
   "pygments_lexer": "ipython3",
   "version": "3.11.13"
  }
 },
 "nbformat": 4,
 "nbformat_minor": 5
}
